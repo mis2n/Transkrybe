{
 "cells": [
  {
   "cell_type": "markdown",
   "id": "323f1612",
   "metadata": {},
   "source": [
    "# ResNet YOLO Combination Demonstrational Notebook\n",
    "## By: Matthew I. Swindall"
   ]
  },
  {
   "cell_type": "markdown",
   "id": "392a81ad",
   "metadata": {},
   "source": [
    "### Load necessary libraries, models, and inintialize parameter variables"
   ]
  },
  {
   "cell_type": "code",
   "execution_count": 1,
   "id": "bbbdd701",
   "metadata": {},
   "outputs": [
    {
     "name": "stderr",
     "output_type": "stream",
     "text": [
      "C:\\Users\\matth\\anaconda3\\envs\\flaskenv\\lib\\site-packages\\tqdm\\auto.py:21: TqdmWarning: IProgress not found. Please update jupyter and ipywidgets. See https://ipywidgets.readthedocs.io/en/stable/user_install.html\n",
      "  from .autonotebook import tqdm as notebook_tqdm\n",
      "Using cache found in C:\\Users\\matth/.cache\\torch\\hub\\ultralytics_yolov5_master\n",
      "YOLOv5  2023-5-20 Python-3.7.16 torch-1.13.1+cpu CPU\n",
      "\n",
      "Fusing layers... \n"
     ]
    },
    {
     "name": "stdout",
     "output_type": "stream",
     "text": [
      "\u001b[31m\u001b[1mrequirements:\u001b[0m C:\\Users\\matth\\anaconda3\\envs\\flaskenv\\Lib\\site-packages\\requirements.txt not found, check failed.\n"
     ]
    },
    {
     "name": "stderr",
     "output_type": "stream",
     "text": [
      "Model summary: 157 layers, 7012822 parameters, 0 gradients, 15.8 GFLOPs\n",
      "Adding AutoShape... \n"
     ]
    },
    {
     "name": "stdout",
     "output_type": "stream",
     "text": [
      "WARNING:tensorflow:SavedModel saved prior to TF 2.5 detected when loading Keras model. Please ensure that you are saving the model with model.save() or tf.keras.models.save_model(), *NOT* tf.saved_model.save(). To confirm, there should be a file named \"keras_metadata.pb\" in the SavedModel directory.\n"
     ]
    }
   ],
   "source": [
    "import os\n",
    "import gc\n",
    "import cv2\n",
    "import torch\n",
    "import random\n",
    "import threading\n",
    "import numpy as np\n",
    "import pandas as pd\n",
    "from PIL import Image\n",
    "from PIL import ImageFile\n",
    "import matplotlib.pyplot as plt\n",
    "import tensorflow as tf\n",
    "from tensorflow.keras import Model\n",
    "from tensorflow.keras import layers\n",
    "from tensorflow.keras.models import load_model\n",
    "\n",
    "# Allows PIL to load truncated images\n",
    "ImageFile.LOAD_TRUNCATED_IMAGES = True\n",
    "\n",
    "# Appearance parameters for cv2 rectangles\n",
    "color = (255, 0, 0)\n",
    "thickness = 4\n",
    "\n",
    "# Ancient Lives classes\n",
    "classes = ['Alpha', 'Beta', 'Chi', 'Delta', 'Epsilon', 'Eta', 'Gamma', 'Iota', 'Kappa', 'Lambda', 'Mu', 'Nu', 'Omega', 'Omicron', 'Phi', 'Pi', 'Psi' ,'Rho', 'LunateSigma', 'Tau', 'Theta', 'Upsilon', 'Xi', 'Zeta']\n",
    "\n",
    "# Load yolo segmentation model and KLD inference model\n",
    "#seg = torch.hub.load('ultralytics/yolov5', 'custom', path='best.pt') # OLD VERSION TRAINED ON HOMER\n",
    "seg = torch.hub.load('ultralytics/yolov5', 'custom', path='static/models/best_yolo.pt') # NEW VERSION TRAINED ON AL-ALL\n",
    "\n",
    "\n",
    "# Load ResNet inference model\n",
    "infer = load_model(\"static/models/alv2_cxe\")\n",
    "\n",
    "%matplotlib inline"
   ]
  },
  {
   "cell_type": "markdown",
   "id": "6a257a63",
   "metadata": {},
   "source": [
    "### Define functions for segmentation, inferencing, and displaying results"
   ]
  },
  {
   "cell_type": "code",
   "execution_count": 2,
   "id": "a961c908",
   "metadata": {},
   "outputs": [],
   "source": [
    "# Function uses yolo model to find characters in image of papyrus fragments\n",
    "def Segment(img_path):\n",
    "    im = cv2.imread(img_path)[..., ::-1]\n",
    "    #im = Image.open(img_path)#[..., ::-1]\n",
    "    results = seg(im, size=640)\n",
    "    df = results.pandas().xyxy[0]\n",
    "    df.rename(columns = {'confidence':'yolo_confidence'}, inplace = True)\n",
    "    #print(df)\n",
    "    return df\n",
    "\n",
    "# Function uses Ancient Lives KLD ResNet model to crop characters and run multi-class inference on individual characters\n",
    "def Inference(data, img_path, conf):\n",
    "    pred_dist = []\n",
    "    class_pred = []\n",
    "    class_numeric = []\n",
    "    res_prob = []\n",
    "    df = data\n",
    "    dfred = df[df['yolo_confidence'] > conf]\n",
    "    im = cv2.imread(img_path)\n",
    "    plt.imshow(im[..., ::-1])\n",
    "    plt.title(\"Original Image\")\n",
    "    h, w, c = im.shape\n",
    "    for i in range(len(dfred)):\n",
    "        xmin = int(dfred['xmin'][i])\n",
    "        xmax = int(dfred['xmax'][i])\n",
    "        ymin = int(dfred['ymin'][i])\n",
    "        ymax = int(dfred['ymax'][i])\n",
    "        sp = (xmin, ymin)\n",
    "        ep = (xmax, ymax)\n",
    "        #print(sp, ep)\n",
    "        #print(\"Domain: \", xmin, \"-\", xmax, \"Range: \", ymin, \"-\", ymax)\n",
    "        imgc = im.copy()\n",
    "        imgc2 = im.copy()\n",
    "        imgr = cv2.rectangle(imgc, sp, ep, color, thickness)[..., ::-1]\n",
    "        cropped = imgc2[ymin:ymax, xmin:xmax][..., ::-1]\n",
    "        res = cv2.resize(cropped, (70, 70), interpolation=cv2.INTER_AREA)\n",
    "        x = []\n",
    "        x.append(res)\n",
    "        X = np.array(x)\n",
    "        preds = infer.predict(X, verbose=0)\n",
    "        imclass = np.argmax(preds[0])\n",
    "        char = classes[imclass]\n",
    "        prob = preds[0][imclass]\n",
    "        pred_dist.append(preds)\n",
    "        res_prob.append(prob)\n",
    "        class_pred.append(char)\n",
    "        class_numeric.append(imclass)\n",
    "        ax2title = \"Prediction:\" + str(char) + \" \" + str(round((prob*100), 2)) + \"% \"\n",
    "        fig, (ax1, ax2) = plt.subplots(1, 2)\n",
    "        outname = \"Prediction_\" + str(i) + \".png\"\n",
    "        ax1.imshow(imgr)\n",
    "        ax2.imshow(res)\n",
    "        ax1.set_title(\"Location on Tablet\")\n",
    "        ax2.set_title(ax2title)\n",
    "        plt.gcf()\n",
    "        #plt.savefig(outname)\n",
    "        plt.show()\n",
    "    df[\"Predicted_Character\"] = class_pred\n",
    "    df[\"Predicted_Numeric\"] = class_numeric\n",
    "    df[\"Resnet_Confidence\"] = res_prob\n",
    "    \n",
    "    \n",
    "    csvname = \"E:/homer_repo/homerres/\" + img_path.split(\"/\")[-1][:-4] + \".csv\"\n",
    "    #print(csvname)\n",
    "    #print(df.head())\n",
    "    #df.to_csv(csvname)\n",
    "    \n",
    "    \n",
    "# Main function combining segmentation and inference\n",
    "def Transcribe(img_path, conf):\n",
    "    csvname = img_path.split(\"/\")[-1][:-4] + \".csv\"\n",
    "    if not os.path.exists(csvname):\n",
    "        output = Segment(img_path)\n",
    "        Inference(output, img_path, conf)\n",
    "    else:\n",
    "        print(csvname, \" ALREADY EXISTS\")\n"
   ]
  },
  {
   "cell_type": "markdown",
   "id": "9e56945b",
   "metadata": {},
   "source": [
    "### Get list of sample images"
   ]
  },
  {
   "cell_type": "code",
   "execution_count": 3,
   "id": "a616cd79",
   "metadata": {},
   "outputs": [
    {
     "data": {
      "text/plain": [
       "['deadsea.jpg',\n",
       " 'oxy1.jpg',\n",
       " 'oxy2.jpg',\n",
       " 'tablet1.jpg',\n",
       " 'tablet2.jpg',\n",
       " 'tablet3.jpg',\n",
       " 'tablet4.png',\n",
       " 'Z_POxy.v0015.n1800.a.05_135556.jpg']"
      ]
     },
     "execution_count": 3,
     "metadata": {},
     "output_type": "execute_result"
    }
   ],
   "source": [
    "impath = \"samples/\"\n",
    "frags = os.listdir(impath)\n",
    "frags"
   ]
  },
  {
   "cell_type": "markdown",
   "id": "a6a657f2",
   "metadata": {},
   "source": [
    "### Perform transcription on selected image with YOLO confidence threshold value"
   ]
  },
  {
   "cell_type": "code",
   "execution_count": null,
   "id": "80c39e10",
   "metadata": {},
   "outputs": [],
   "source": [
    "Transcribe(impath+frags[2], 0.0)"
   ]
  },
  {
   "cell_type": "code",
   "execution_count": null,
   "id": "06fc8f0e",
   "metadata": {},
   "outputs": [],
   "source": []
  }
 ],
 "metadata": {
  "kernelspec": {
   "display_name": "Python 3 (ipykernel)",
   "language": "python",
   "name": "python3"
  },
  "language_info": {
   "codemirror_mode": {
    "name": "ipython",
    "version": 3
   },
   "file_extension": ".py",
   "mimetype": "text/x-python",
   "name": "python",
   "nbconvert_exporter": "python",
   "pygments_lexer": "ipython3",
   "version": "3.7.16"
  }
 },
 "nbformat": 4,
 "nbformat_minor": 5
}
